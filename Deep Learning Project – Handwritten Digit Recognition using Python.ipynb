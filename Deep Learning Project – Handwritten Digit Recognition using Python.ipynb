{
 "cells": [
  {
   "cell_type": "code",
   "execution_count": 1,
   "id": "499460f4",
   "metadata": {},
   "outputs": [],
   "source": [
    "import keras\n",
    "from keras.datasets import mnist\n",
    "from keras.models import Sequential\n",
    "from keras.layers import Dense, Dropout, Flatten\n",
    "from keras.layers import Conv2D, MaxPooling2D\n",
    "from keras import backend as K"
   ]
  },
  {
   "cell_type": "code",
   "execution_count": 2,
   "id": "f94ad74a",
   "metadata": {},
   "outputs": [
    {
     "name": "stdout",
     "output_type": "stream",
     "text": [
      "x_train: (60000, 28, 28) y_train: (60000,) shape of first image in x_train AxesImage(54,36;334.8x217.44) (28, 28)\n"
     ]
    },
    {
     "data": {
      "image/png": "[encoded data removed]",
      "text/plain": [
       "<Figure size 432x288 with 1 Axes>"
      ]
     },
     "metadata": {
      "needs_background": "light"
     },
     "output_type": "display_data"
    }
   ],
   "source": [
    "# loading the data, split between train and test sets\n",
    "(x_train, y_train), (x_test, y_test) = mnist.load_data()\n",
    "import matplotlib.pyplot as plt # to see one of the data set images \n",
    "print('x_train:', x_train.shape,'y_train:' , y_train.shape , 'shape of first image in x_train' , plt.imshow(x_train[0]) , x_train[0].shape)"
   ]
  },
  {
   "cell_type": "code",
   "execution_count": 3,
   "id": "d7e4282a",
   "metadata": {},
   "outputs": [
    {
     "data": {
      "image/png": "[encoded data removed]",
      "text/plain": [
       "<Figure size 432x288 with 6 Axes>"
      ]
     },
     "metadata": {
      "needs_background": "light"
     },
     "output_type": "display_data"
    }
   ],
   "source": [
    "#plot first six samples of MNIST training dataset as gray scale image\n",
    "import matplotlib.pyplot as plt \n",
    "for i in range (6):\n",
    "    plt. subplot(int('23' + str(i+1))) \n",
    "    plt.imshow(x_train[i], cmap=plt.get_cmap('gray') )"
   ]
  },
  {
   "cell_type": "code",
   "execution_count": 4,
   "id": "9b2e6430",
   "metadata": {},
   "outputs": [],
   "source": [
    "#Data pre-processing\n",
    "#Next, we need to reshape our dataset inputs (X_train and X_test) \n",
    "#to the shape that our model expects when we train the model. \n",
    "#The first number is the number of images (60,000 for X_train and 10,000 for X_test). \n",
    "#Then comes the shape of each image (28x28). The last number is 1, which signifies that the images are greyscale."
   ]
  },
  {
   "cell_type": "code",
   "execution_count": 5,
   "id": "371c7e33",
   "metadata": {},
   "outputs": [],
   "source": [
    "x_train = x_train.reshape(x_train.shape[0], 28, 28, 1)\n",
    "x_test = x_test.reshape(x_test.shape[0], 28, 28, 1)\n",
    "input_shape = (28, 28, 1)"
   ]
  },
  {
   "cell_type": "code",
   "execution_count": 6,
   "id": "d18adf0f",
   "metadata": {},
   "outputs": [],
   "source": [
    "# We need to ‘one-hot-encode’ our target variable. \n",
    "# This means that a column will be created for each output category and a binary variable is inputted for each category. \n",
    "# For example, we saw that the first image in the dataset is a 5. \n",
    "# This means that the sixth number in our array will have a 1 and the rest of the array will be filled with 0."
   ]
  },
  {
   "cell_type": "code",
   "execution_count": 7,
   "id": "4dd2e7ff",
   "metadata": {},
   "outputs": [
    {
     "name": "stdout",
     "output_type": "stream",
     "text": [
      "x_train shape: (60000, 28, 28, 1)\n",
      "60000 train samples\n",
      "10000 test samples\n"
     ]
    }
   ],
   "source": [
    "# convert class vectors to binary class matrices\n",
    "#one-hot encode target column\n",
    "y_train = keras.utils.to_categorical(y_train , 10)\n",
    "y_test = keras.utils.to_categorical(y_test , 10)\n",
    "\n",
    "x_train = x_train.astype('float32')\n",
    "x_test = x_test.astype('float32')\n",
    "x_train /= 255\n",
    "x_test /= 255\n",
    "print('x_train shape:', x_train.shape)\n",
    "print(x_train.shape[0], 'train samples')\n",
    "print(x_test.shape[0], 'test samples')"
   ]
  },
  {
   "cell_type": "code",
   "execution_count": 8,
   "id": "a9d46bfe",
   "metadata": {},
   "outputs": [
    {
     "name": "stdout",
     "output_type": "stream",
     "text": [
      "Epoch 1/10\n",
      "300/300 [==============================] - 82s 270ms/step - loss: 2.2993 - accuracy: 0.1161 - val_loss: 2.2650 - val_accuracy: 0.2319\n",
      "Epoch 2/10\n",
      "300/300 [==============================] - 117s 390ms/step - loss: 2.2456 - accuracy: 0.2175 - val_loss: 2.2023 - val_accuracy: 0.4207\n",
      "Epoch 3/10\n",
      "300/300 [==============================] - 58s 193ms/step - loss: 2.1843 - accuracy: 0.3175 - val_loss: 2.1288 - val_accuracy: 0.5608\n",
      "Epoch 4/10\n",
      "300/300 [==============================] - 55s 185ms/step - loss: 2.1102 - accuracy: 0.4073 - val_loss: 2.0360 - val_accuracy: 0.6434\n",
      "Epoch 5/10\n",
      "300/300 [==============================] - 56s 186ms/step - loss: 2.0157 - accuracy: 0.4861 - val_loss: 1.9163 - val_accuracy: 0.6978\n",
      "Epoch 6/10\n",
      "300/300 [==============================] - 56s 187ms/step - loss: 1.8944 - accuracy: 0.5480 - val_loss: 1.7638 - val_accuracy: 0.7391\n",
      "Epoch 7/10\n",
      "300/300 [==============================] - 58s 195ms/step - loss: 1.7443 - accuracy: 0.5997 - val_loss: 1.5804 - val_accuracy: 0.7661\n",
      "Epoch 8/10\n",
      "300/300 [==============================] - 58s 194ms/step - loss: 1.5754 - accuracy: 0.6351 - val_loss: 1.3822 - val_accuracy: 0.7859\n",
      "Epoch 9/10\n",
      "300/300 [==============================] - 56s 186ms/step - loss: 1.4069 - accuracy: 0.6584 - val_loss: 1.1920 - val_accuracy: 0.8005\n",
      "Epoch 10/10\n",
      "300/300 [==============================] - 56s 187ms/step - loss: 1.2502 - accuracy: 0.6833 - val_loss: 1.0271 - val_accuracy: 0.8134\n",
      "The model has successfully trained\n"
     ]
    }
   ],
   "source": [
    "batch_size = 200\n",
    "num_classes = 10\n",
    "epochs = 10\n",
    "model = Sequential()\n",
    "model.add(Conv2D(32, kernel_size=(3, 3),activation='relu',input_shape=input_shape))\n",
    "model.add(Conv2D(64, (3, 3), activation='relu'))\n",
    "model.add(MaxPooling2D(pool_size=(2, 2)))\n",
    "model.add(Dropout(0.25))\n",
    "model.add(Flatten())\n",
    "model.add(Dense(256, activation='relu'))\n",
    "model.add(Dropout(0.5))\n",
    "model.add(Dense(num_classes, activation='softmax'))\n",
    "\n",
    "model.compile(loss=keras.losses.categorical_crossentropy,optimizer=keras.optimizers.Adadelta(),metrics=['accuracy'])\n",
    "\n",
    "hist = model.fit(x_train , y_train  ,batch_size=batch_size , epochs=epochs , verbose=1 , validation_data=(x_test, y_test) )\n",
    "print(\"The model has successfully trained\")"
   ]
  },
  {
   "cell_type": "code",
   "execution_count": 9,
   "id": "bc3b9039",
   "metadata": {},
   "outputs": [
    {
     "name": "stdout",
     "output_type": "stream",
     "text": [
      "Test loss: 1.0271421670913696\n",
      "Test accuracy: 0.8133999705314636\n"
     ]
    }
   ],
   "source": [
    "score = model.evaluate(x_test, y_test, verbose=0)\n",
    "print('Test loss:', score[0])\n",
    "print('Test accuracy:', score[1])"
   ]
  },
  {
   "cell_type": "code",
   "execution_count": 10,
   "id": "f05c9ca1",
   "metadata": {},
   "outputs": [
    {
     "name": "stdout",
     "output_type": "stream",
     "text": [
      "Saving the model as mnist.h5\n"
     ]
    }
   ],
   "source": [
    "import os\n",
    "os.chdir(r'C:\\Users\\HP\\Downloads\\model')\n",
    "model.save('mnist.h5')\n",
    "print(\"Saving the model as mnist.h5\")"
   ]
  },
  {
   "cell_type": "code",
   "execution_count": null,
   "id": "15cb2ec7",
   "metadata": {},
   "outputs": [],
   "source": []
  }
 ],
 "metadata": {
  "kernelspec": {
   "display_name": "Python 3 (ipykernel)",
   "language": "python",
   "name": "python3"
  },
  "language_info": {
   "codemirror_mode": {
    "name": "ipython",
    "version": 3
   },
   "file_extension": ".py",
   "mimetype": "text/x-python",
   "name": "python",
   "nbconvert_exporter": "python",
   "pygments_lexer": "ipython3",
   "version": "3.9.12"
  }
 },
 "nbformat": 4,
 "nbformat_minor": 5
}
